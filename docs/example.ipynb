{
 "cells": [
  {
   "attachments": {},
   "cell_type": "markdown",
   "metadata": {},
   "source": [
    "# `mydstools` - Usage examples (Work in progress)\n",
    "\n",
    "For the sake of this demonstration, let's import `pandas` first and create a dummy dataframe."
   ]
  },
  {
   "cell_type": "code",
   "execution_count": 7,
   "metadata": {},
   "outputs": [
    {
     "data": {
      "text/html": [
       "<div>\n",
       "<style scoped>\n",
       "    .dataframe tbody tr th:only-of-type {\n",
       "        vertical-align: middle;\n",
       "    }\n",
       "\n",
       "    .dataframe tbody tr th {\n",
       "        vertical-align: top;\n",
       "    }\n",
       "\n",
       "    .dataframe thead th {\n",
       "        text-align: right;\n",
       "    }\n",
       "</style>\n",
       "<table border=\"1\" class=\"dataframe\">\n",
       "  <thead>\n",
       "    <tr style=\"text-align: right;\">\n",
       "      <th></th>\n",
       "      <th>dirty_cats</th>\n",
       "      <th>clean_cats</th>\n",
       "    </tr>\n",
       "  </thead>\n",
       "  <tbody>\n",
       "    <tr>\n",
       "      <th>0</th>\n",
       "      <td>monday</td>\n",
       "      <td>Monday</td>\n",
       "    </tr>\n",
       "    <tr>\n",
       "      <th>1</th>\n",
       "      <td>Tusday</td>\n",
       "      <td>Tuesday</td>\n",
       "    </tr>\n",
       "    <tr>\n",
       "      <th>2</th>\n",
       "      <td>Wednesday</td>\n",
       "      <td>Wednesday</td>\n",
       "    </tr>\n",
       "    <tr>\n",
       "      <th>3</th>\n",
       "      <td>thurda</td>\n",
       "      <td>Thursday</td>\n",
       "    </tr>\n",
       "    <tr>\n",
       "      <th>4</th>\n",
       "      <td>Firday</td>\n",
       "      <td>Friday</td>\n",
       "    </tr>\n",
       "    <tr>\n",
       "      <th>5</th>\n",
       "      <td>saty</td>\n",
       "      <td>Saturday</td>\n",
       "    </tr>\n",
       "    <tr>\n",
       "      <th>6</th>\n",
       "      <td>Sunday</td>\n",
       "      <td>Sunday</td>\n",
       "    </tr>\n",
       "  </tbody>\n",
       "</table>\n",
       "</div>"
      ],
      "text/plain": [
       "  dirty_cats clean_cats\n",
       "0     monday     Monday\n",
       "1     Tusday    Tuesday\n",
       "2  Wednesday  Wednesday\n",
       "3     thurda   Thursday\n",
       "4     Firday     Friday\n",
       "5       saty   Saturday\n",
       "6     Sunday     Sunday"
      ]
     },
     "execution_count": 7,
     "metadata": {},
     "output_type": "execute_result"
    }
   ],
   "source": [
    "import pandas as pd\n",
    "\n",
    "dirty_cats = ['monday', 'Tusday', 'Wednesday',\n",
    "              'thurda', 'Firday', 'saty', 'Sunday']\n",
    "clean_cats = ['Monday', 'Tuesday', 'Wednesday',\n",
    "              'Thursday', 'Friday', 'Saturday', 'Sunday']\n",
    "\n",
    "df = pd.DataFrame({'dirty_cats': dirty_cats, 'clean_cats': clean_cats})\n",
    "df"
   ]
  },
  {
   "attachments": {},
   "cell_type": "markdown",
   "metadata": {},
   "source": [
    "# Cleaning operations\n",
    "## Column names"
   ]
  },
  {
   "cell_type": "code",
   "execution_count": 8,
   "metadata": {},
   "outputs": [
    {
     "data": {
      "text/html": [
       "<div>\n",
       "<style scoped>\n",
       "    .dataframe tbody tr th:only-of-type {\n",
       "        vertical-align: middle;\n",
       "    }\n",
       "\n",
       "    .dataframe tbody tr th {\n",
       "        vertical-align: top;\n",
       "    }\n",
       "\n",
       "    .dataframe thead th {\n",
       "        text-align: right;\n",
       "    }\n",
       "</style>\n",
       "<table border=\"1\" class=\"dataframe\">\n",
       "  <thead>\n",
       "    <tr style=\"text-align: right;\">\n",
       "      <th></th>\n",
       "      <th>Dirty  categorieS</th>\n",
       "      <th>:/Clean !@#$%&amp;*(){}[];:.,/\\|˜ Categories</th>\n",
       "    </tr>\n",
       "  </thead>\n",
       "  <tbody>\n",
       "    <tr>\n",
       "      <th>0</th>\n",
       "      <td>monday</td>\n",
       "      <td>Monday</td>\n",
       "    </tr>\n",
       "    <tr>\n",
       "      <th>1</th>\n",
       "      <td>Tusday</td>\n",
       "      <td>Tuesday</td>\n",
       "    </tr>\n",
       "    <tr>\n",
       "      <th>2</th>\n",
       "      <td>Wednesday</td>\n",
       "      <td>Wednesday</td>\n",
       "    </tr>\n",
       "    <tr>\n",
       "      <th>3</th>\n",
       "      <td>thurda</td>\n",
       "      <td>Thursday</td>\n",
       "    </tr>\n",
       "    <tr>\n",
       "      <th>4</th>\n",
       "      <td>Firday</td>\n",
       "      <td>Friday</td>\n",
       "    </tr>\n",
       "    <tr>\n",
       "      <th>5</th>\n",
       "      <td>saty</td>\n",
       "      <td>Saturday</td>\n",
       "    </tr>\n",
       "    <tr>\n",
       "      <th>6</th>\n",
       "      <td>Sunday</td>\n",
       "      <td>Sunday</td>\n",
       "    </tr>\n",
       "  </tbody>\n",
       "</table>\n",
       "</div>"
      ],
      "text/plain": [
       "      Dirty  categorieS :/Clean !@#$%&*(){}[];:.,/\\|˜ Categories\n",
       "0                monday                                   Monday\n",
       "1                Tusday                                  Tuesday\n",
       "2             Wednesday                                Wednesday\n",
       "3                thurda                                 Thursday\n",
       "4                Firday                                   Friday\n",
       "5                  saty                                 Saturday\n",
       "6                Sunday                                   Sunday"
      ]
     },
     "execution_count": 8,
     "metadata": {},
     "output_type": "execute_result"
    }
   ],
   "source": [
    "df.columns = ['    Dirty  categorieS', ':/Clean !@#$%&*(){}[];:.,/\\|˜ Categories']\n",
    "df"
   ]
  },
  {
   "cell_type": "code",
   "execution_count": 9,
   "metadata": {},
   "outputs": [
    {
     "data": {
      "text/html": [
       "<div>\n",
       "<style scoped>\n",
       "    .dataframe tbody tr th:only-of-type {\n",
       "        vertical-align: middle;\n",
       "    }\n",
       "\n",
       "    .dataframe tbody tr th {\n",
       "        vertical-align: top;\n",
       "    }\n",
       "\n",
       "    .dataframe thead th {\n",
       "        text-align: right;\n",
       "    }\n",
       "</style>\n",
       "<table border=\"1\" class=\"dataframe\">\n",
       "  <thead>\n",
       "    <tr style=\"text-align: right;\">\n",
       "      <th></th>\n",
       "      <th>dirty_categories</th>\n",
       "      <th>clean_categories</th>\n",
       "    </tr>\n",
       "  </thead>\n",
       "  <tbody>\n",
       "    <tr>\n",
       "      <th>0</th>\n",
       "      <td>monday</td>\n",
       "      <td>Monday</td>\n",
       "    </tr>\n",
       "    <tr>\n",
       "      <th>1</th>\n",
       "      <td>Tusday</td>\n",
       "      <td>Tuesday</td>\n",
       "    </tr>\n",
       "    <tr>\n",
       "      <th>2</th>\n",
       "      <td>Wednesday</td>\n",
       "      <td>Wednesday</td>\n",
       "    </tr>\n",
       "    <tr>\n",
       "      <th>3</th>\n",
       "      <td>thurda</td>\n",
       "      <td>Thursday</td>\n",
       "    </tr>\n",
       "    <tr>\n",
       "      <th>4</th>\n",
       "      <td>Firday</td>\n",
       "      <td>Friday</td>\n",
       "    </tr>\n",
       "    <tr>\n",
       "      <th>5</th>\n",
       "      <td>saty</td>\n",
       "      <td>Saturday</td>\n",
       "    </tr>\n",
       "    <tr>\n",
       "      <th>6</th>\n",
       "      <td>Sunday</td>\n",
       "      <td>Sunday</td>\n",
       "    </tr>\n",
       "  </tbody>\n",
       "</table>\n",
       "</div>"
      ],
      "text/plain": [
       "  dirty_categories clean_categories\n",
       "0           monday           Monday\n",
       "1           Tusday          Tuesday\n",
       "2        Wednesday        Wednesday\n",
       "3           thurda         Thursday\n",
       "4           Firday           Friday\n",
       "5             saty         Saturday\n",
       "6           Sunday           Sunday"
      ]
     },
     "execution_count": 9,
     "metadata": {},
     "output_type": "execute_result"
    }
   ],
   "source": [
    "from mydstools.cleaning import clean_col_names\n",
    "\n",
    "df.columns = clean_col_names(df.columns)\n",
    "df"
   ]
  },
  {
   "cell_type": "markdown",
   "metadata": {},
   "source": [
    "## Converting a currency string variable into `float` (and keep a separate currency `str` variable)"
   ]
  },
  {
   "cell_type": "code",
   "execution_count": 1,
   "metadata": {},
   "outputs": [],
   "source": [
    "from mydstools.cleaning import currency_to_float"
   ]
  },
  {
   "cell_type": "code",
   "execution_count": 3,
   "metadata": {},
   "outputs": [
    {
     "name": "stdout",
     "output_type": "stream",
     "text": [
      "Values:\n",
      "[1200.45, 23000.12, 123000.56, 45.0, 56.9, 51.9]\n",
      "Currencies:\n",
      "['EUR', '$', 'USD', '$', '$', '']\n"
     ]
    }
   ],
   "source": [
    "prices = [\"EUR 1200,45\", \"  23,000.12 $\", \"123,000.56USD\", \"$45\", \"$ 56,90\", '51,90']\n",
    "\n",
    "v, c = currency_to_float(prices)\n",
    "print(\"Values:\")\n",
    "print(v)\n",
    "print(\"Currencies:\")\n",
    "print(c)"
   ]
  },
  {
   "cell_type": "code",
   "execution_count": 6,
   "metadata": {},
   "outputs": [
    {
     "name": "stdout",
     "output_type": "stream",
     "text": [
      "0      EUR 1200,45\n",
      "1      23,000.12 $\n",
      "2    123,000.56USD\n",
      "3              $45\n",
      "4          $ 56,90\n",
      "5            51,90\n",
      "dtype: object\n",
      "\n",
      "Values:\n",
      "0      1200.45\n",
      "1     23000.12\n",
      "2    123000.56\n",
      "3        45.00\n",
      "4        56.90\n",
      "5        51.90\n",
      "dtype: float64\n",
      "\n",
      "Currencies:\n",
      "0    EUR\n",
      "1      $\n",
      "2    USD\n",
      "3      $\n",
      "4      $\n",
      "5       \n",
      "dtype: object\n"
     ]
    }
   ],
   "source": [
    "prices = pd.Series(prices)\n",
    "print(prices)\n",
    "\n",
    "v, c = currency_to_float(prices)\n",
    "print(\"\\nValues:\")\n",
    "print(v)\n",
    "print(\"\\nCurrencies:\")\n",
    "print(c)"
   ]
  }
 ],
 "metadata": {
  "kernelspec": {
   "display_name": ".venv",
   "language": "python",
   "name": "python3"
  },
  "language_info": {
   "codemirror_mode": {
    "name": "ipython",
    "version": 3
   },
   "file_extension": ".py",
   "mimetype": "text/x-python",
   "name": "python",
   "nbconvert_exporter": "python",
   "pygments_lexer": "ipython3",
   "version": "3.10.7"
  },
  "orig_nbformat": 4,
  "vscode": {
   "interpreter": {
    "hash": "7a2adf74abedff133da55309cae71eff7f8117185d2fe2fa4a01e0523c68e6fe"
   }
  }
 },
 "nbformat": 4,
 "nbformat_minor": 2
}
